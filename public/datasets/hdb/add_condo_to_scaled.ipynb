{
 "cells": [
  {
   "cell_type": "code",
   "execution_count": 1,
   "metadata": {},
   "outputs": [],
   "source": [
    "import pandas as pd"
   ]
  },
  {
   "cell_type": "code",
   "execution_count": 63,
   "metadata": {},
   "outputs": [
    {
     "name": "stderr",
     "output_type": "stream",
     "text": [
      "C:\\Users\\vince\\AppData\\Local\\Temp\\ipykernel_38988\\1945246418.py:1: DtypeWarning: Columns (19) have mixed types. Specify dtype option on import or set low_memory=False.\n",
      "  condo_2018 = pd.read_csv('../private/private_2018_2022.csv')\n"
     ]
    }
   ],
   "source": [
    "condo_2018 = pd.read_csv(\"../private/private_2018_2022.csv\")\n",
    "condo_2018[\"year\"] = condo_2018[\"year\"] + 2000\n",
    "condo_2018 = condo_2018[\n",
    "    (condo_2018[\"saletype\"] == \"Resale\") & (condo_2018[\"year\"] == 2018)\n",
    "][[\"price\", \"year\"]]\n",
    "condo_2018 = condo_2018.rename(columns={\"price\": \"resale_price\"})\n",
    "condo_2018[\"flat_type\"] = \"Private\""
   ]
  },
  {
   "cell_type": "code",
   "execution_count": 65,
   "metadata": {},
   "outputs": [],
   "source": [
    "hdb = pd.read_csv(\"hdb.csv\")[[\"resale_price\", \"month\"]]\n",
    "hdb[\"year\"] = pd.to_datetime(hdb[\"month\"]).dt.year\n",
    "hdb = hdb.drop(columns=\"month\")\n",
    "hdb[\"flat_type\"] = \"HDB\"\n",
    "\n",
    "types = [\"Condominium\", \"Apartment\", \"Executive Condominium\"]\n",
    "condo = pd.read_csv(\"../private/private.csv\")[\n",
    "    [\"transacted_price_($)\", \"sale_date\", \"property_type\"]\n",
    "]\n",
    "condo = condo[condo[\"property_type\"].isin(types)][[\"transacted_price_($)\", \"sale_date\"]]\n",
    "condo[\"year\"] = pd.to_datetime(condo[\"sale_date\"]).dt.year\n",
    "condo = condo.drop(columns=\"sale_date\")\n",
    "condo = condo.rename(columns={\"transacted_price_($)\": \"resale_price\"})\n",
    "condo[\"resale_price\"] = pd.to_numeric(condo[\"resale_price\"].str.replace(\",\", \"\"))\n",
    "condo[\"flat_type\"] = \"Private\""
   ]
  },
  {
   "cell_type": "code",
   "execution_count": 70,
   "metadata": {},
   "outputs": [],
   "source": [
    "df = (\n",
    "    pd.concat([hdb, condo_2018, condo])\n",
    "    .groupby([\"year\", \"flat_type\"])\n",
    "    .median()\n",
    "    .reset_index()\n",
    ")\n",
    "df.to_csv(\"../median_resale_price.csv\", index=False)"
   ]
  },
  {
   "cell_type": "code",
   "execution_count": 13,
   "metadata": {},
   "outputs": [
    {
     "data": {
      "text/html": [
       "<div>\n",
       "<style scoped>\n",
       "    .dataframe tbody tr th:only-of-type {\n",
       "        vertical-align: middle;\n",
       "    }\n",
       "\n",
       "    .dataframe tbody tr th {\n",
       "        vertical-align: top;\n",
       "    }\n",
       "\n",
       "    .dataframe thead th {\n",
       "        text-align: right;\n",
       "    }\n",
       "</style>\n",
       "<table border=\"1\" class=\"dataframe\">\n",
       "  <thead>\n",
       "    <tr style=\"text-align: right;\">\n",
       "      <th></th>\n",
       "      <th>resale_price</th>\n",
       "      <th>year</th>\n",
       "      <th>flat_type</th>\n",
       "    </tr>\n",
       "  </thead>\n",
       "  <tbody>\n",
       "    <tr>\n",
       "      <th>0</th>\n",
       "      <td>1,540,000</td>\n",
       "      <td>2024</td>\n",
       "      <td>Private</td>\n",
       "    </tr>\n",
       "    <tr>\n",
       "      <th>1</th>\n",
       "      <td>965,000</td>\n",
       "      <td>2024</td>\n",
       "      <td>Private</td>\n",
       "    </tr>\n",
       "    <tr>\n",
       "      <th>2</th>\n",
       "      <td>3,650,000</td>\n",
       "      <td>2024</td>\n",
       "      <td>Private</td>\n",
       "    </tr>\n",
       "    <tr>\n",
       "      <th>3</th>\n",
       "      <td>1,710,000</td>\n",
       "      <td>2024</td>\n",
       "      <td>Private</td>\n",
       "    </tr>\n",
       "    <tr>\n",
       "      <th>4</th>\n",
       "      <td>1,498,000</td>\n",
       "      <td>2024</td>\n",
       "      <td>Private</td>\n",
       "    </tr>\n",
       "  </tbody>\n",
       "</table>\n",
       "</div>"
      ],
      "text/plain": [
       "  resale_price  year flat_type\n",
       "0    1,540,000  2024   Private\n",
       "1      965,000  2024   Private\n",
       "2    3,650,000  2024   Private\n",
       "3    1,710,000  2024   Private\n",
       "4    1,498,000  2024   Private"
      ]
     },
     "execution_count": 13,
     "metadata": {},
     "output_type": "execute_result"
    }
   ],
   "source": [
    "condo.head()"
   ]
  }
 ],
 "metadata": {
  "kernelspec": {
   "display_name": "Python 3",
   "language": "python",
   "name": "python3"
  },
  "language_info": {
   "codemirror_mode": {
    "name": "ipython",
    "version": 3
   },
   "file_extension": ".py",
   "mimetype": "text/x-python",
   "name": "python",
   "nbconvert_exporter": "python",
   "pygments_lexer": "ipython3",
   "version": "3.12.1"
  }
 },
 "nbformat": 4,
 "nbformat_minor": 2
}
