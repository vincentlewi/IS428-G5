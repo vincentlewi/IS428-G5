{
 "cells": [
  {
   "cell_type": "code",
   "execution_count": 2,
   "metadata": {},
   "outputs": [],
   "source": [
    "import pandas as pd\n",
    "import numpy as np\n",
    "import matplotlib.pyplot as plt\n",
    "import seaborn as sns\n"
   ]
  },
  {
   "cell_type": "code",
   "execution_count": 9,
   "metadata": {},
   "outputs": [
    {
     "data": {
      "text/html": [
       "<div>\n",
       "<style scoped>\n",
       "    .dataframe tbody tr th:only-of-type {\n",
       "        vertical-align: middle;\n",
       "    }\n",
       "\n",
       "    .dataframe tbody tr th {\n",
       "        vertical-align: top;\n",
       "    }\n",
       "\n",
       "    .dataframe thead th {\n",
       "        text-align: right;\n",
       "    }\n",
       "</style>\n",
       "<table border=\"1\" class=\"dataframe\">\n",
       "  <thead>\n",
       "    <tr style=\"text-align: right;\">\n",
       "      <th></th>\n",
       "      <th>year</th>\n",
       "      <th>town_classification</th>\n",
       "      <th>resale_price</th>\n",
       "      <th>adjusted_price</th>\n",
       "      <th>price_per_sqm</th>\n",
       "      <th>adjusted_price_per_sqm</th>\n",
       "      <th>flat_type</th>\n",
       "    </tr>\n",
       "  </thead>\n",
       "  <tbody>\n",
       "    <tr>\n",
       "      <th>0</th>\n",
       "      <td>1990</td>\n",
       "      <td>Mature</td>\n",
       "      <td>52000.0</td>\n",
       "      <td>92944.8</td>\n",
       "      <td>704.477612</td>\n",
       "      <td>1259.183284</td>\n",
       "      <td>All</td>\n",
       "    </tr>\n",
       "    <tr>\n",
       "      <th>1</th>\n",
       "      <td>1990</td>\n",
       "      <td>Non-Mature</td>\n",
       "      <td>56000.0</td>\n",
       "      <td>100094.4</td>\n",
       "      <td>699.029126</td>\n",
       "      <td>1249.444660</td>\n",
       "      <td>All</td>\n",
       "    </tr>\n",
       "    <tr>\n",
       "      <th>2</th>\n",
       "      <td>1991</td>\n",
       "      <td>Mature</td>\n",
       "      <td>54000.0</td>\n",
       "      <td>94354.2</td>\n",
       "      <td>728.813559</td>\n",
       "      <td>1273.455932</td>\n",
       "      <td>All</td>\n",
       "    </tr>\n",
       "    <tr>\n",
       "      <th>3</th>\n",
       "      <td>1991</td>\n",
       "      <td>Non-Mature</td>\n",
       "      <td>60000.0</td>\n",
       "      <td>104838.0</td>\n",
       "      <td>726.495726</td>\n",
       "      <td>1269.405983</td>\n",
       "      <td>All</td>\n",
       "    </tr>\n",
       "    <tr>\n",
       "      <th>4</th>\n",
       "      <td>1992</td>\n",
       "      <td>Mature</td>\n",
       "      <td>62000.0</td>\n",
       "      <td>105617.0</td>\n",
       "      <td>820.895522</td>\n",
       "      <td>1398.395522</td>\n",
       "      <td>All</td>\n",
       "    </tr>\n",
       "  </tbody>\n",
       "</table>\n",
       "</div>"
      ],
      "text/plain": [
       "   year town_classification  resale_price  adjusted_price  price_per_sqm  \\\n",
       "0  1990              Mature       52000.0         92944.8     704.477612   \n",
       "1  1990          Non-Mature       56000.0        100094.4     699.029126   \n",
       "2  1991              Mature       54000.0         94354.2     728.813559   \n",
       "3  1991          Non-Mature       60000.0        104838.0     726.495726   \n",
       "4  1992              Mature       62000.0        105617.0     820.895522   \n",
       "\n",
       "   adjusted_price_per_sqm flat_type  \n",
       "0             1259.183284       All  \n",
       "1             1249.444660       All  \n",
       "2             1273.455932       All  \n",
       "3             1269.405983       All  \n",
       "4             1398.395522       All  "
      ]
     },
     "execution_count": 9,
     "metadata": {},
     "output_type": "execute_result"
    }
   ],
   "source": [
    "hdb = pd.read_csv('hdb_scaled.csv')\n",
    "hdb_filtered = hdb[['year', 'town_classification', 'resale_price', 'adjusted_price', 'price_per_sqm', 'adjusted_price_per_sqm']]\n",
    "grouped_hdb = hdb_filtered.groupby(['year', 'town_classification'])\n",
    "median_price = grouped_hdb.median().reset_index()\n",
    "median_price['flat_type'] = 'All'\n",
    "median_price.head()"
   ]
  },
  {
   "cell_type": "code",
   "execution_count": 11,
   "metadata": {},
   "outputs": [],
   "source": [
    "median = pd.read_csv('median_price.csv')\n",
    "median_final = pd.concat([median, median_price], ignore_index=True)\n",
    "median_final.to_csv('median_price_final.csv')"
   ]
  }
 ],
 "metadata": {
  "kernelspec": {
   "display_name": "Python 3",
   "language": "python",
   "name": "python3"
  },
  "language_info": {
   "codemirror_mode": {
    "name": "ipython",
    "version": 3
   },
   "file_extension": ".py",
   "mimetype": "text/x-python",
   "name": "python",
   "nbconvert_exporter": "python",
   "pygments_lexer": "ipython3",
   "version": "3.12.2"
  }
 },
 "nbformat": 4,
 "nbformat_minor": 2
}
