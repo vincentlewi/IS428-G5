{
 "cells": [
  {
   "cell_type": "code",
   "execution_count": 7,
   "metadata": {},
   "outputs": [],
   "source": [
    "import pandas as pd\n",
    "import numpy as np\n",
    "import matplotlib.pyplot as plt"
   ]
  },
  {
   "cell_type": "code",
   "execution_count": 18,
   "metadata": {},
   "outputs": [],
   "source": [
    "hdb = pd.read_csv(\"hdb_available_cleaned.csv\")[\n",
    "    [\n",
    "        \"bus_within_0.5\",\n",
    "        \"cbd_distance\",\n",
    "        \"hawker_distance\",\n",
    "        \"mall_within_2.0\",\n",
    "        \"mrtlrt_distance\",\n",
    "        \"park_distance\",\n",
    "        \"school_within_2.0\",\n",
    "        \"supermarket_within_0.5\",\n",
    "    ]\n",
    "]"
   ]
  },
  {
   "cell_type": "code",
   "execution_count": 22,
   "metadata": {},
   "outputs": [
    {
     "name": "stdout",
     "output_type": "stream",
     "text": [
      "bus_within_0.5\n",
      "median: 2.833213344056216\n",
      "min: 0.489301084236452\n",
      "max: 1.373641807199326\n",
      "\n",
      "cbd_distance\n",
      "median: 2.6918131575504636\n",
      "min: -0.35970338335873064\n",
      "max: 1.7775188171402796\n",
      "\n",
      "hawker_distance\n",
      "median: 0.5280186725354765\n",
      "min: -0.8246116087100726\n",
      "max: 0.49930002895364245\n",
      "\n",
      "mall_within_2.0\n",
      "median: 1.791759469228055\n",
      "min: 0.0\n",
      "max: 1.859738746970775\n",
      "\n",
      "mrtlrt_distance\n",
      "median: 0.43037103127764664\n",
      "min: -1.0773561414005774\n",
      "max: 0.40923204240852556\n",
      "\n",
      "park_distance\n",
      "median: 0.5125843761855321\n",
      "min: -0.7146231004033047\n",
      "max: 0.4552574209939195\n",
      "\n",
      "school_within_2.0\n",
      "median: 2.833213344056216\n",
      "min: 0.0\n",
      "max: 1.327538613914891\n",
      "\n",
      "supermarket_within_0.5\n",
      "median: 1.0986122886681098\n",
      "min: 0.0\n",
      "max: 2.182658338644138\n",
      "\n"
     ]
    }
   ],
   "source": [
    "for col in hdb:\n",
    "    print(col)\n",
    "    log = np.log(hdb[col] + 1)\n",
    "    med = log.median()\n",
    "    if \"distance\" in col:\n",
    "        min = (med - log).min()\n",
    "        max = (med - log).max()\n",
    "    else:\n",
    "        min = (log / med).min()\n",
    "        max = (log / med).max()\n",
    "    print(f\"median: {med}\")\n",
    "    print(f\"min: {min}\")\n",
    "    print(f\"max: {max}\")\n",
    "    print()"
   ]
  },
  {
   "cell_type": "code",
   "execution_count": 15,
   "metadata": {},
   "outputs": [
    {
     "data": {
      "text/plain": [
       "Index(['LATITUDE', 'LONGITUDE', 'address', 'town', 'flat_type',\n",
       "       'floor_area_sqm', 'remaining_lease', 'bus_within_0.5', 'cbd_distance',\n",
       "       'hawker_distance', 'mall_within_2.0', 'mrtlrt_distance',\n",
       "       'park_distance', 'school_within_2.0', 'supermarket_within_0.5',\n",
       "       'resale_price', 'region'],\n",
       "      dtype='object')"
      ]
     },
     "execution_count": 15,
     "metadata": {},
     "output_type": "execute_result"
    }
   ],
   "source": [
    "hdb.columns"
   ]
  },
  {
   "cell_type": "code",
   "execution_count": 14,
   "metadata": {},
   "outputs": [
    {
     "data": {
      "text/plain": [
       "-1.0773561414005774"
      ]
     },
     "execution_count": 14,
     "metadata": {},
     "output_type": "execute_result"
    }
   ],
   "source": [
    "(0.43037103127764664 - np.log(hdb.mrtlrt_distance + 1)).min()"
   ]
  }
 ],
 "metadata": {
  "kernelspec": {
   "display_name": "Python 3",
   "language": "python",
   "name": "python3"
  },
  "language_info": {
   "codemirror_mode": {
    "name": "ipython",
    "version": 3
   },
   "file_extension": ".py",
   "mimetype": "text/x-python",
   "name": "python",
   "nbconvert_exporter": "python",
   "pygments_lexer": "ipython3",
   "version": "3.12.1"
  }
 },
 "nbformat": 4,
 "nbformat_minor": 2
}
