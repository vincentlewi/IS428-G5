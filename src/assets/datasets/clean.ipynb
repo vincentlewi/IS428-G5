{
 "cells": [
  {
   "cell_type": "code",
   "execution_count": 1,
   "metadata": {},
   "outputs": [],
   "source": [
    "import pandas as pd\n",
    "import json"
   ]
  },
  {
   "cell_type": "code",
   "execution_count": 4,
   "metadata": {},
   "outputs": [],
   "source": [
    "import pandas as pd\n",
    "\n",
    "# Read mrt.json and lrt.json files\n",
    "mrt_data = pd.read_json(\"mrt.json\")\n",
    "lrt_data = pd.read_json(\"lrt.json\")\n",
    "\n",
    "# Convert data into dataframes\n",
    "mrt_df = pd.DataFrame(mrt_data)\n",
    "lrt_df = pd.DataFrame(lrt_data)\n",
    "\n",
    "# Concatenate the two dataframes\n",
    "mrtlrt_df = pd.concat([mrt_df, lrt_df])\n",
    "\n",
    "# Export the concatenated dataframe as mrtlrt.json\n",
    "mrtlrt_df.to_json(\"mrtlrt.json\", orient=\"records\")"
   ]
  }
 ],
 "metadata": {
  "kernelspec": {
   "display_name": "Python 3",
   "language": "python",
   "name": "python3"
  },
  "language_info": {
   "codemirror_mode": {
    "name": "ipython",
    "version": 3
   },
   "file_extension": ".py",
   "mimetype": "text/x-python",
   "name": "python",
   "nbconvert_exporter": "python",
   "pygments_lexer": "ipython3",
   "version": "3.12.1"
  }
 },
 "nbformat": 4,
 "nbformat_minor": 2
}
