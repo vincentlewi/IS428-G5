{
 "cells": [
  {
   "cell_type": "code",
   "execution_count": 2,
   "metadata": {},
   "outputs": [],
   "source": [
    "import pandas as pd\n",
    "import os"
   ]
  },
  {
   "cell_type": "code",
   "execution_count": 3,
   "metadata": {},
   "outputs": [],
   "source": [
    "one = pd.read_csv(\"datasets/HDB/1.csv\").drop(columns=[\"flat_model\", \"storey_range\"])\n",
    "two = pd.read_csv(\"datasets/HDB/2.csv\").drop(columns=[\"flat_model\", \"storey_range\"])\n",
    "three = pd.read_csv(\"datasets/HDB/3.csv\").drop(columns=[\"flat_model\", \"storey_range\"])\n",
    "four = pd.read_csv(\"datasets/HDB/4.csv\").drop(\n",
    "    columns=[\"flat_model\", \"storey_range\", \"remaining_lease\"]\n",
    ")\n",
    "five = pd.read_csv(\"datasets/HDB/5.csv\").drop(\n",
    "    columns=[\"flat_model\", \"storey_range\", \"remaining_lease\"]\n",
    ")\n",
    "\n",
    "hdb = pd.concat([one, two, three, four, five])\n",
    "\n",
    "# hdb['street_name'] = hdb['street_name'].replace({' RD': ' ROAD',\n",
    "#                                                  ' DR': ' DRIVE',\n",
    "#                                                  ' AVE': ' AVENUE',\n",
    "#                                                  ' CRES': ' CRESCENT',\n",
    "#                                                  ' ST': ' STREET',\n",
    "#                                                  ' CL': ' CLOSE',\n",
    "#                                                  'JLN': 'JALAN',\n",
    "#                                                  'BT ': 'BUKIT ',\n",
    "#                                                  'UPP ': 'UPPER ',\n",
    "#                                                  'NTH': 'NORTH',\n",
    "#                                                  'STH': 'SOUTH',\n",
    "#                                                  \"C'WEALTH\": 'COMMONWEALTH'}, regex=True)\n",
    "\n",
    "# hdb.loc[(hdb.block == '309') & (hdb.street_name == 'ANG MO KIO AVE 1'), 'block'] = '309A'\n",
    "hdb[\"flat_type\"] = hdb[\"flat_type\"].replace(\"MULTI-GENERATION\", \"MULTI GENERATION\")\n",
    "hdb[\"remaining lease\"] = 99 - (2024 - hdb.lease_commence_date)\n",
    "\n",
    "hdb[\"address\"] = hdb[\"block\"] + \" \" + hdb[\"street_name\"]"
   ]
  },
  {
   "cell_type": "code",
   "execution_count": 16,
   "metadata": {},
   "outputs": [],
   "source": [
    "addresses = hdb[\"address\"].unique().tolist()"
   ]
  },
  {
   "cell_type": "code",
   "execution_count": 17,
   "metadata": {},
   "outputs": [
    {
     "name": "stderr",
     "output_type": "stream",
     "text": [
      "Fetching data: 9830it [01:22, 119.83it/s]                          \n"
     ]
    }
   ],
   "source": [
    "import asyncio\n",
    "import aiohttp\n",
    "from tqdm.asyncio import tqdm\n",
    "\n",
    "url = \"https://www.onemap.gov.sg/api/common/elastic/\"\n",
    "\n",
    "\n",
    "async def get_hdb_data(address, session, progress_bar=None):\n",
    "    params = {\"searchVal\": address, \"returnGeom\": \"Y\", \"getAddrDetails\": \"Y\"}\n",
    "    try:\n",
    "        async with session.get(url, params=params) as response:\n",
    "            data = await response.json()\n",
    "            if data[\"found\"] != 0:\n",
    "                result = data[\"results\"][0]\n",
    "                if progress_bar:\n",
    "                    progress_bar.update(1)\n",
    "                return {**{\"QUERY\": address}, **result}\n",
    "            if progress_bar:\n",
    "                progress_bar.update(1)\n",
    "            return {\"QUERY\": address, \"found\": 0}\n",
    "    except Exception as e:\n",
    "        if progress_bar:\n",
    "            progress_bar.update(1)\n",
    "        return {\"QUERY\": address, \"ERROR\": \"REQUEST FAILED\"}\n",
    "\n",
    "\n",
    "async def main(addresses):\n",
    "    results = []\n",
    "    retry_addresses = addresses  # Initial set of addresses to try\n",
    "    async with aiohttp.ClientSession() as session:\n",
    "        progress_bar = tqdm(total=len(addresses), desc=\"Fetching data\")\n",
    "        while retry_addresses:\n",
    "            tasks = [\n",
    "                get_hdb_data(address, session, progress_bar)\n",
    "                for address in retry_addresses\n",
    "            ]\n",
    "            batch_results = await asyncio.gather(*tasks)\n",
    "\n",
    "            retry_addresses = (\n",
    "                []\n",
    "            )  # Reset retry_addresses list for the next iteration for any errors\n",
    "\n",
    "            for res in batch_results:\n",
    "                if res is not None:\n",
    "                    if (\n",
    "                        \"ERROR\" in res\n",
    "                    ):  # Check if the response is an error, without updating progress\n",
    "                        retry_addresses.append(res[\"QUERY\"])  # Add address for retry\n",
    "                    elif res.get(\"found\", 1) == 0:  # Address has no data but no error\n",
    "                        results.append(res)\n",
    "                    else:  # Success case\n",
    "                        results.append(res)\n",
    "        progress_bar.close()\n",
    "\n",
    "    if results:\n",
    "        # Convert list of dicts to DataFrame, omitting error entries for presentation\n",
    "        results_df = pd.DataFrame([res for res in results if \"ERROR\" not in res])\n",
    "        return results_df.drop(columns=\"found\")\n",
    "    else:\n",
    "        print(\"No results found\")\n",
    "\n",
    "\n",
    "# To run this in a notebook or async environment:\n",
    "df = await main(addresses)"
   ]
  },
  {
   "cell_type": "code",
   "execution_count": 23,
   "metadata": {},
   "outputs": [],
   "source": [
    "df.to_csv(\"datasets/HDB/addresses.csv\")"
   ]
  },
  {
   "cell_type": "code",
   "execution_count": 32,
   "metadata": {},
   "outputs": [],
   "source": [
    "hdb_complete = hdb.merge(df, left_on=\"address\", right_on=\"QUERY\", how=\"left\")\n",
    "hdb_complete.to_csv(\"datasets/HDB/hdb_complete.csv\")"
   ]
  }
 ],
 "metadata": {
  "kernelspec": {
   "display_name": "Python 3",
   "language": "python",
   "name": "python3"
  },
  "language_info": {
   "codemirror_mode": {
    "name": "ipython",
    "version": 3
   },
   "file_extension": ".py",
   "mimetype": "text/x-python",
   "name": "python",
   "nbconvert_exporter": "python",
   "pygments_lexer": "ipython3",
   "version": "3.12.1"
  }
 },
 "nbformat": 4,
 "nbformat_minor": 2
}
