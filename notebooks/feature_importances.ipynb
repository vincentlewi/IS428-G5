{
 "cells": [
  {
   "cell_type": "code",
   "execution_count": null,
   "metadata": {},
   "outputs": [],
   "source": [
    "import pandas as pd\n",
    "import matplotlib.pyplot as plt\n",
    "import os"
   ]
  },
  {
   "cell_type": "code",
   "execution_count": null,
   "metadata": {},
   "outputs": [],
   "source": [
    "fi = pd.DataFrame()\n",
    "root = \"feature_importances/all_features\"\n",
    "for file in os.listdir(root):\n",
    "    if file.endswith(\".csv\"):\n",
    "        year = file.split(\"_\")[1]\n",
    "        feature = pd.read_csv(os.path.join(root, file), index_col=0).rename(\n",
    "            columns={\"Importances\": year}\n",
    "        )\n",
    "\n",
    "        # Merge dataframes\n",
    "        if fi.empty:\n",
    "            fi = feature\n",
    "        else:\n",
    "            fi = pd.merge(fi, feature, on=\"Feature Id\", how=\"outer\")\n",
    "\n",
    "fi = fi.set_index(\"Feature Id\")\n",
    "fi"
   ]
  },
  {
   "cell_type": "code",
   "execution_count": null,
   "metadata": {},
   "outputs": [],
   "source": [
    "# Transpose the dataframe to have years as columns\n",
    "fi_transposed = fi.transpose()\n",
    "\n",
    "# Plot the feature importances\n",
    "fi_transposed.plot(kind=\"line\", marker=\"o\")\n",
    "\n",
    "# Set the title and labels\n",
    "plt.title(\"Changes of Feature Importances Across Years\")\n",
    "plt.xlabel(\"Year\")\n",
    "plt.ylabel(\"Importance\")\n",
    "\n",
    "# Show the plot\n",
    "plt.show()"
   ]
  },
  {
   "cell_type": "code",
   "execution_count": null,
   "metadata": {},
   "outputs": [],
   "source": [
    "# Transpose the dataframe to have years as columns\n",
    "fi_transposed = fi.transpose()\n",
    "\n",
    "# Plot the feature importances\n",
    "fi_transposed.plot(kind=\"line\", marker=\"o\")\n",
    "\n",
    "# Set the title and labels\n",
    "plt.title(\"Changes of Feature Importances Across Years\")\n",
    "plt.xlabel(\"Year\")\n",
    "plt.ylabel(\"Importance\")\n",
    "\n",
    "# Show the plot\n",
    "plt.show()"
   ]
  }
 ],
 "metadata": {
  "kernelspec": {
   "display_name": "Python 3",
   "language": "python",
   "name": "python3"
  },
  "language_info": {
   "codemirror_mode": {
    "name": "ipython",
    "version": 3
   },
   "file_extension": ".py",
   "mimetype": "text/x-python",
   "name": "python",
   "nbconvert_exporter": "python",
   "pygments_lexer": "ipython3",
   "version": "3.12.1"
  }
 },
 "nbformat": 4,
 "nbformat_minor": 2
}
