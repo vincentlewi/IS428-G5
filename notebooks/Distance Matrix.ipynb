{
 "cells": [
  {
   "cell_type": "code",
   "execution_count": null,
   "id": "ce3d1689",
   "metadata": {},
   "outputs": [],
   "source": [
    "import pandas as pd\n",
    "from vincenty import vincenty as ty"
   ]
  },
  {
   "cell_type": "code",
   "execution_count": null,
   "id": "9aabca54",
   "metadata": {},
   "outputs": [],
   "source": [
    "print(ty((103.85, 1.25), (103.82, 1.28)))"
   ]
  },
  {
   "cell_type": "markdown",
   "id": "50baf304",
   "metadata": {},
   "source": [
    "# HDB\n"
   ]
  },
  {
   "cell_type": "code",
   "execution_count": null,
   "id": "017731c8",
   "metadata": {},
   "outputs": [],
   "source": [
    "hdb = pd.read_csv(\"Datasets/hdb_geolocation.csv\")\n",
    "hdb.head()"
   ]
  },
  {
   "cell_type": "code",
   "execution_count": null,
   "id": "beb6fc40",
   "metadata": {},
   "outputs": [],
   "source": [
    "hdb_use = hdb[[\"Address\", \"Latitude\", \"Longitude\", \"Town\"]]\n",
    "hdb_use.drop_duplicates(subset=[\"Address\"], inplace=True)\n",
    "hdb_use.reset_index(inplace=True)\n",
    "hdb_use.drop(columns=[\"index\"], inplace=True)\n",
    "hdb_use.head()"
   ]
  },
  {
   "cell_type": "code",
   "execution_count": null,
   "id": "d867aef8",
   "metadata": {
    "scrolled": true
   },
   "outputs": [],
   "source": [
    "hdb_use.shape"
   ]
  },
  {
   "cell_type": "markdown",
   "id": "1a750c52",
   "metadata": {},
   "source": [
    "## CBD\n"
   ]
  },
  {
   "cell_type": "code",
   "execution_count": null,
   "id": "38e9e775",
   "metadata": {},
   "outputs": [],
   "source": [
    "geo = (1.2840350875163564, 103.85181594399593)\n",
    "main_list = []\n",
    "for index, n in hdb_use.iterrows():\n",
    "    temp = ty(geo, (float(n[\"Latitude\"]), float(n[\"Longitude\"])))\n",
    "    main_list.append(\n",
    "        [\n",
    "            float(n[\"Latitude\"]),\n",
    "            float(n[\"Longitude\"]),\n",
    "            1.2840350875163564,\n",
    "            103.85181594399593,\n",
    "            temp,\n",
    "        ]\n",
    "    )"
   ]
  },
  {
   "cell_type": "code",
   "execution_count": null,
   "id": "db3b2630",
   "metadata": {},
   "outputs": [],
   "source": [
    "column = [\"hdb_lat\", \"hdb_lon\", \"cbd_lat\", \"cbd_lon\", \"distance\"]\n",
    "output = pd.DataFrame(main_list, columns=column)\n",
    "output.head()"
   ]
  },
  {
   "cell_type": "code",
   "execution_count": null,
   "id": "c8f2283f",
   "metadata": {},
   "outputs": [],
   "source": [
    "output.to_csv(\"cbd_hdb_matrix.csv\")"
   ]
  },
  {
   "cell_type": "markdown",
   "id": "19e9b5d3",
   "metadata": {},
   "source": [
    "## Hawker\n"
   ]
  },
  {
   "cell_type": "code",
   "execution_count": null,
   "id": "bfec6c5a",
   "metadata": {},
   "outputs": [],
   "source": [
    "hawker = pd.read_csv(\"Datasets/hawker_center.csv\")\n",
    "hawker = hawker[[\"NAME\", \"lat\", \"lon\"]]\n",
    "hawker.head()"
   ]
  },
  {
   "cell_type": "code",
   "execution_count": null,
   "id": "ea4bbc84",
   "metadata": {},
   "outputs": [],
   "source": [
    "hawker.rename(\n",
    "    columns={\"NAME\": \"QUERY\", \"lat\": \"LATITUDE\", \"lon\": \"LONGITUDE\"}, inplace=True\n",
    ")\n",
    "hawker.head()"
   ]
  },
  {
   "cell_type": "code",
   "execution_count": null,
   "id": "7df3cab4",
   "metadata": {},
   "outputs": [],
   "source": [
    "hawker.to_json(\"json/hawker.json\", orient=\"records\")"
   ]
  },
  {
   "cell_type": "code",
   "execution_count": null,
   "id": "cf5a1295",
   "metadata": {},
   "outputs": [],
   "source": [
    "main_list = []\n",
    "for index, n in hdb_use.iterrows():\n",
    "    for index, i in hawker.iterrows():\n",
    "        temp = ty(\n",
    "            (float(n[\"Latitude\"]), float(n[\"Longitude\"])),\n",
    "            (float(i[\"lat\"]), float(i[\"lon\"])),\n",
    "        )\n",
    "        main_list.append(\n",
    "            [\n",
    "                float(n[\"Latitude\"]),\n",
    "                float(n[\"Longitude\"]),\n",
    "                float(i[\"lat\"]),\n",
    "                float(i[\"lon\"]),\n",
    "                temp,\n",
    "            ]\n",
    "        )"
   ]
  },
  {
   "cell_type": "code",
   "execution_count": null,
   "id": "85ebfc93",
   "metadata": {},
   "outputs": [],
   "source": [
    "column = [\"hdb_lat\", \"hdb_lon\", \"hawker_lat\", \"hawker_lon\", \"distance\"]\n",
    "output = pd.DataFrame(main_list, columns=column)\n",
    "output.head()"
   ]
  },
  {
   "cell_type": "code",
   "execution_count": null,
   "id": "ae690f09",
   "metadata": {},
   "outputs": [],
   "source": [
    "output.to_csv(\"hawker_hdb_matrix.csv\")"
   ]
  },
  {
   "cell_type": "markdown",
   "id": "48a08af1",
   "metadata": {},
   "source": [
    "## Shopping Malls\n"
   ]
  },
  {
   "cell_type": "code",
   "execution_count": null,
   "id": "fbf96807",
   "metadata": {},
   "outputs": [],
   "source": [
    "malls = pd.read_csv(\"Datasets/shopping_mall_2019.csv\")\n",
    "malls.head()"
   ]
  },
  {
   "cell_type": "code",
   "execution_count": null,
   "id": "a4028077",
   "metadata": {},
   "outputs": [],
   "source": [
    "malls.rename(columns={\"Mall Name\": \"QUERY\"}, inplace=True)\n",
    "malls.head()"
   ]
  },
  {
   "cell_type": "code",
   "execution_count": null,
   "id": "52d72b26",
   "metadata": {},
   "outputs": [],
   "source": [
    "malls.to_json(\"json/malls.json\", orient=\"records\")"
   ]
  },
  {
   "cell_type": "code",
   "execution_count": null,
   "id": "1af8e925",
   "metadata": {},
   "outputs": [],
   "source": [
    "main_list = []\n",
    "for index, n in hdb_use.iterrows():\n",
    "    for index, i in malls.iterrows():\n",
    "        temp = ty(\n",
    "            (float(n[\"Latitude\"]), float(n[\"Longitude\"])),\n",
    "            (float(i[\"LATITUDE\"]), float(i[\"LONGITUDE\"])),\n",
    "        )\n",
    "        main_list.append(\n",
    "            [\n",
    "                float(n[\"Latitude\"]),\n",
    "                float(n[\"Longitude\"]),\n",
    "                float(i[\"LATITUDE\"]),\n",
    "                float(i[\"LONGITUDE\"]),\n",
    "                temp,\n",
    "            ]\n",
    "        )"
   ]
  },
  {
   "cell_type": "code",
   "execution_count": null,
   "id": "ff218f12",
   "metadata": {},
   "outputs": [],
   "source": [
    "column = [\"hdb_lat\", \"hdb_lon\", \"mall_lat\", \"mall_lon\", \"distance\"]\n",
    "output = pd.DataFrame(main_list, columns=column)\n",
    "output.head()"
   ]
  },
  {
   "cell_type": "code",
   "execution_count": null,
   "id": "228c957b",
   "metadata": {},
   "outputs": [],
   "source": [
    "output.to_csv(\"malls_hdb_matrix.csv\")"
   ]
  },
  {
   "cell_type": "markdown",
   "id": "c9e2d367",
   "metadata": {},
   "source": [
    "## School\n"
   ]
  },
  {
   "cell_type": "code",
   "execution_count": null,
   "id": "4529093f",
   "metadata": {},
   "outputs": [],
   "source": [
    "schools = pd.read_csv(\"Datasets/school.csv\")\n",
    "schools.head()"
   ]
  },
  {
   "cell_type": "code",
   "execution_count": null,
   "id": "0c5ae5e9",
   "metadata": {},
   "outputs": [],
   "source": [
    "schools_json = schools[[\"School Name\", \"Latitude (generated)\", \"Longitude (generated)\"]]\n",
    "schools_json.head()"
   ]
  },
  {
   "cell_type": "code",
   "execution_count": null,
   "id": "d6a0c021",
   "metadata": {},
   "outputs": [],
   "source": [
    "schools_json.rename(\n",
    "    columns={\n",
    "        \"School Name\": \"QUERY\",\n",
    "        \"Latitude (generated)\": \"LATITUDE\",\n",
    "        \"Longitude (generated)\": \"LONGITUDE\",\n",
    "    },\n",
    "    inplace=True,\n",
    ")\n",
    "schools_json.head()"
   ]
  },
  {
   "cell_type": "code",
   "execution_count": null,
   "id": "a6a0c203",
   "metadata": {},
   "outputs": [],
   "source": [
    "schools_json.to_json(\"json/schools.json\", orient=\"records\")"
   ]
  },
  {
   "cell_type": "code",
   "execution_count": null,
   "id": "46ee4f2f",
   "metadata": {},
   "outputs": [],
   "source": [
    "main_list = []\n",
    "for index, n in hdb_use.iterrows():\n",
    "    for index, i in schools.iterrows():\n",
    "        temp = ty(\n",
    "            (float(n[\"Latitude\"]), float(n[\"Longitude\"])),\n",
    "            (float(i[\"Latitude (generated)\"]), float(i[\"Longitude (generated)\"])),\n",
    "        )\n",
    "        main_list.append(\n",
    "            [\n",
    "                float(n[\"Latitude\"]),\n",
    "                float(n[\"Longitude\"]),\n",
    "                float(i[\"Latitude (generated)\"]),\n",
    "                float(i[\"Longitude (generated)\"]),\n",
    "                temp,\n",
    "            ]\n",
    "        )"
   ]
  },
  {
   "cell_type": "code",
   "execution_count": null,
   "id": "c3a993ad",
   "metadata": {},
   "outputs": [],
   "source": [
    "column = [\"hdb_lat\", \"hdb_lon\", \"school_lat\", \"school_lon\", \"distance\"]\n",
    "output = pd.DataFrame(main_list, columns=column)\n",
    "output.head()"
   ]
  },
  {
   "cell_type": "code",
   "execution_count": null,
   "id": "fe56bb0e",
   "metadata": {},
   "outputs": [],
   "source": [
    "output.to_csv(\"school_hdb_matrix.csv\")"
   ]
  },
  {
   "cell_type": "markdown",
   "id": "5461c3a5",
   "metadata": {},
   "source": [
    "## Parks\n"
   ]
  },
  {
   "cell_type": "code",
   "execution_count": null,
   "id": "50d37f1a",
   "metadata": {
    "scrolled": true
   },
   "outputs": [],
   "source": [
    "parks = pd.read_csv(\"Datasets/park_points.csv\")\n",
    "parks.head()"
   ]
  },
  {
   "cell_type": "code",
   "execution_count": null,
   "id": "4a29b268",
   "metadata": {},
   "outputs": [],
   "source": [
    "parks_json = parks[[\"NAME\", \"lon\", \"lat\"]]\n",
    "parks_json.head()"
   ]
  },
  {
   "cell_type": "code",
   "execution_count": null,
   "id": "72763729",
   "metadata": {},
   "outputs": [],
   "source": [
    "parks_json.rename(\n",
    "    columns={\"NAME\": \"QUERY\", \"lat\": \"LATITUDE\", \"lon\": \"LONGITUDE\"}, inplace=True\n",
    ")\n",
    "parks_json.head()"
   ]
  },
  {
   "cell_type": "code",
   "execution_count": null,
   "id": "7f2773f8",
   "metadata": {},
   "outputs": [],
   "source": [
    "parks_json.to_json(\"json/parks.json\", orient=\"records\")"
   ]
  },
  {
   "cell_type": "code",
   "execution_count": null,
   "id": "a925450a",
   "metadata": {},
   "outputs": [],
   "source": [
    "main_list = []\n",
    "for index, n in hdb_use.iterrows():\n",
    "    for index, i in parks.iterrows():\n",
    "        temp = ty(\n",
    "            (float(n[\"Latitude\"]), float(n[\"Longitude\"])),\n",
    "            (float(i[\"lat\"]), float(i[\"lon\"])),\n",
    "        )\n",
    "        main_list.append(\n",
    "            [\n",
    "                float(n[\"Latitude\"]),\n",
    "                float(n[\"Longitude\"]),\n",
    "                float(i[\"lat\"]),\n",
    "                float(i[\"lon\"]),\n",
    "                temp,\n",
    "            ]\n",
    "        )"
   ]
  },
  {
   "cell_type": "code",
   "execution_count": null,
   "id": "909712cb",
   "metadata": {},
   "outputs": [],
   "source": [
    "column = [\"hdb_lat\", \"hdb_lon\", \"park_lat\", \"park_lon\", \"distance\"]\n",
    "output = pd.DataFrame(main_list, columns=column)\n",
    "output.head()"
   ]
  },
  {
   "cell_type": "code",
   "execution_count": null,
   "id": "4aacc9df",
   "metadata": {},
   "outputs": [],
   "source": [
    "output.to_csv(\"parks_hdb_matrix.csv\")"
   ]
  },
  {
   "cell_type": "markdown",
   "id": "a4970d3d",
   "metadata": {},
   "source": [
    "## Supermarket\n"
   ]
  },
  {
   "cell_type": "code",
   "execution_count": null,
   "id": "4d2c6784",
   "metadata": {},
   "outputs": [],
   "source": [
    "supermarket = pd.read_csv(\"Datasets/supermarket.csv\")\n",
    "supermarket.head()"
   ]
  },
  {
   "cell_type": "code",
   "execution_count": null,
   "id": "4eb40e93",
   "metadata": {},
   "outputs": [],
   "source": [
    "supermarket_json = supermarket[[\"LIC_NAME\", \"lon\", \"lat\"]]\n",
    "supermarket_json.rename(\n",
    "    columns={\"LIC_NAME\": \"QUERY\", \"lon\": \"LONGITUDE\", \"lat\": \"LATITUDE\"}, inplace=True\n",
    ")\n",
    "supermarket_json.head()"
   ]
  },
  {
   "cell_type": "code",
   "execution_count": null,
   "id": "cb0a9e2f",
   "metadata": {},
   "outputs": [],
   "source": [
    "supermarket_json.to_json(\"json/supermarkets.json\", orient=\"records\")"
   ]
  },
  {
   "cell_type": "code",
   "execution_count": null,
   "id": "c519d511",
   "metadata": {},
   "outputs": [],
   "source": [
    "main_list = []\n",
    "for index, n in hdb_use.iterrows():\n",
    "    for index, i in supermarket.iterrows():\n",
    "        temp = ty(\n",
    "            (float(n[\"Latitude\"]), float(n[\"Longitude\"])),\n",
    "            (float(i[\"lat\"]), float(i[\"lon\"])),\n",
    "        )\n",
    "        main_list.append(\n",
    "            [\n",
    "                float(n[\"Latitude\"]),\n",
    "                float(n[\"Longitude\"]),\n",
    "                float(i[\"lat\"]),\n",
    "                float(i[\"lon\"]),\n",
    "                temp,\n",
    "            ]\n",
    "        )"
   ]
  },
  {
   "cell_type": "code",
   "execution_count": null,
   "id": "1d007110",
   "metadata": {},
   "outputs": [],
   "source": [
    "column = [\"hdb_lat\", \"hdb_lon\", \"supermarket_lat\", \"supermarket_lon\", \"distance\"]\n",
    "output = pd.DataFrame(main_list, columns=column)\n",
    "output.head()"
   ]
  },
  {
   "cell_type": "code",
   "execution_count": null,
   "id": "4bdbe2b9",
   "metadata": {},
   "outputs": [],
   "source": [
    "output.to_csv(\"supermarket_hdb_matrix.csv\")"
   ]
  },
  {
   "cell_type": "markdown",
   "id": "34e645f6",
   "metadata": {},
   "source": [
    "## MRT & LRT\n"
   ]
  },
  {
   "cell_type": "code",
   "execution_count": null,
   "id": "5a83e627",
   "metadata": {},
   "outputs": [],
   "source": [
    "mrt = pd.read_csv(\"Datasets/mrt_lrt_stations.csv\")\n",
    "mrt.head()"
   ]
  },
  {
   "cell_type": "code",
   "execution_count": null,
   "id": "47302d18",
   "metadata": {},
   "outputs": [],
   "source": [
    "mrt_only = mrt[mrt.TYP_CD_DES == \"MRT\"][[\"STN_NAM_DE\", \"lon\", \"lat\"]]\n",
    "lrt_only = mrt[mrt.TYP_CD_DES == \"LRT\"][[\"STN_NAM_DE\", \"lon\", \"lat\"]]\n",
    "mrt_only.rename(\n",
    "    columns={\"STN_NAM_DE\": \"QUERY\", \"lon\": \"LONGITUDE\", \"lat\": \"LATITUDE\"}, inplace=True\n",
    ")\n",
    "lrt_only.rename(\n",
    "    columns={\"STN_NAM_DE\": \"QUERY\", \"lon\": \"LONGITUDE\", \"lat\": \"LATITUDE\"}, inplace=True\n",
    ")\n",
    "\n",
    "mrt_only.to_json(\"json/mrt.json\", orient=\"records\")\n",
    "lrt_only.to_json(\"json/lrt.json\", orient=\"records\")"
   ]
  },
  {
   "cell_type": "code",
   "execution_count": null,
   "id": "ab54b9fd",
   "metadata": {},
   "outputs": [],
   "source": [
    "main_list = []\n",
    "for index, n in hdb_use.iterrows():\n",
    "    for index, i in mrt.iterrows():\n",
    "        temp = ty(\n",
    "            (float(n[\"Latitude\"]), float(n[\"Longitude\"])),\n",
    "            (float(i[\"lat\"]), float(i[\"lon\"])),\n",
    "        )\n",
    "        main_list.append(\n",
    "            [\n",
    "                float(n[\"Latitude\"]),\n",
    "                float(n[\"Longitude\"]),\n",
    "                float(i[\"lat\"]),\n",
    "                float(i[\"lon\"]),\n",
    "                temp,\n",
    "            ]\n",
    "        )"
   ]
  },
  {
   "cell_type": "code",
   "execution_count": null,
   "id": "38e4af95",
   "metadata": {},
   "outputs": [],
   "source": [
    "column = [\"hdb_lat\", \"hdb_lon\", \"mrtlrt_lat\", \"mrtlrt_lon\", \"distance\"]\n",
    "output = pd.DataFrame(main_list, columns=column)\n",
    "output.head()"
   ]
  },
  {
   "cell_type": "code",
   "execution_count": null,
   "id": "efc6fc8d",
   "metadata": {},
   "outputs": [],
   "source": [
    "output.to_csv(\"mrtlrt_hdb_matrix.csv\")"
   ]
  },
  {
   "cell_type": "markdown",
   "id": "aca5f2d6",
   "metadata": {},
   "source": [
    "## Bus Stop\n"
   ]
  },
  {
   "cell_type": "code",
   "execution_count": null,
   "id": "0b5d84d8",
   "metadata": {
    "scrolled": true
   },
   "outputs": [],
   "source": [
    "bus = pd.read_csv(\"Datasets/bus_stop_district.csv\")\n",
    "bus.head()"
   ]
  },
  {
   "cell_type": "code",
   "execution_count": null,
   "id": "dad1cd7a",
   "metadata": {},
   "outputs": [],
   "source": [
    "bus_json = bus[[\"LOC_DESC\", \"lon\", \"lat\"]]\n",
    "bus_json.rename(\n",
    "    columns={\"LOC_DESC\": \"QUERY\", \"lon\": \"LONGITUDE\", \"lat\": \"LATITUDE\"}, inplace=True\n",
    ")\n",
    "bus_json.head()"
   ]
  },
  {
   "cell_type": "code",
   "execution_count": null,
   "id": "faad54b8",
   "metadata": {},
   "outputs": [],
   "source": [
    "bus_json.to_json(\"json/bus.json\", orient=\"records\")"
   ]
  },
  {
   "cell_type": "code",
   "execution_count": null,
   "id": "d913d01d",
   "metadata": {},
   "outputs": [],
   "source": [
    "main_list = []\n",
    "for index, n in hdb_use.iterrows():\n",
    "    trest = bus.loc[\n",
    "        (abs(float(n[\"Latitude\"]) - bus[\"lat\"].astype(\"float\")) <= 0.03)\n",
    "        & (abs(float(n[\"Longitude\"]) - bus[\"lon\"].astype(\"float\")) <= 0.03)\n",
    "    ]\n",
    "    for index, i in trest.iterrows():\n",
    "        temp = ty(\n",
    "            (float(n[\"Latitude\"]), float(n[\"Longitude\"])),\n",
    "            (float(i[\"lat\"]), float(i[\"lon\"])),\n",
    "        )\n",
    "        main_list.append(\n",
    "            [\n",
    "                float(n[\"Latitude\"]),\n",
    "                float(n[\"Longitude\"]),\n",
    "                float(i[\"lat\"]),\n",
    "                float(i[\"lon\"]),\n",
    "                temp,\n",
    "            ]\n",
    "        )"
   ]
  },
  {
   "cell_type": "markdown",
   "id": "ef37ebab",
   "metadata": {},
   "source": [
    "<= 400 rows for each hdb\n"
   ]
  },
  {
   "cell_type": "code",
   "execution_count": null,
   "id": "156e904e",
   "metadata": {},
   "outputs": [],
   "source": [
    "column = [\"hdb_lat\", \"hdb_lon\", \"bus_lat\", \"bus_lon\", \"distance\"]\n",
    "output = pd.DataFrame(main_list, columns=column)\n",
    "output.head()"
   ]
  },
  {
   "cell_type": "code",
   "execution_count": null,
   "id": "9f359fea",
   "metadata": {},
   "outputs": [],
   "source": [
    "output.shape"
   ]
  },
  {
   "cell_type": "code",
   "execution_count": null,
   "id": "8502257c",
   "metadata": {},
   "outputs": [],
   "source": [
    "output.to_csv(\"Raw Matrix/bus_hdb_matrix.csv\")"
   ]
  },
  {
   "cell_type": "markdown",
   "id": "dbdd488c",
   "metadata": {},
   "source": [
    "# Private\n"
   ]
  },
  {
   "cell_type": "code",
   "execution_count": null,
   "id": "c9d67490",
   "metadata": {},
   "outputs": [],
   "source": [
    "private = pd.read_csv(\"Datasets/addresses.csv\")\n",
    "private.head()"
   ]
  },
  {
   "cell_type": "code",
   "execution_count": null,
   "id": "2bc03ed6",
   "metadata": {},
   "outputs": [],
   "source": [
    "private_use = private[[\"LATITUDE\", \"LONGITUDE\"]]\n",
    "private_use.head()"
   ]
  },
  {
   "cell_type": "code",
   "execution_count": null,
   "id": "f2ad072e",
   "metadata": {},
   "outputs": [],
   "source": [
    "private_use.shape"
   ]
  },
  {
   "cell_type": "markdown",
   "id": "61b018f4",
   "metadata": {},
   "source": [
    "## CBD\n"
   ]
  },
  {
   "cell_type": "code",
   "execution_count": null,
   "id": "1b9ab1ef",
   "metadata": {},
   "outputs": [],
   "source": [
    "geo = (1.2840350875163564, 103.85181594399593)\n",
    "main_list = []\n",
    "for index, n in private_use.iterrows():\n",
    "    temp = ty(geo, (float(n[\"LATITUDE\"]), float(n[\"LONGITUDE\"])))\n",
    "    main_list.append(\n",
    "        [\n",
    "            float(n[\"LATITUDE\"]),\n",
    "            float(n[\"LONGITUDE\"]),\n",
    "            1.2840350875163564,\n",
    "            103.85181594399593,\n",
    "            temp,\n",
    "        ]\n",
    "    )"
   ]
  },
  {
   "cell_type": "code",
   "execution_count": null,
   "id": "67772cc6",
   "metadata": {},
   "outputs": [],
   "source": [
    "column = [\"private_lat\", \"private_lon\", \"cbd_lat\", \"cbd_lon\", \"distance\"]\n",
    "output = pd.DataFrame(main_list, columns=column)\n",
    "output.head()"
   ]
  },
  {
   "cell_type": "code",
   "execution_count": null,
   "id": "d11d2da0",
   "metadata": {},
   "outputs": [],
   "source": [
    "output.to_csv(\"cbd_private_matrix.csv\")"
   ]
  },
  {
   "cell_type": "markdown",
   "id": "1a1c4160",
   "metadata": {},
   "source": [
    "## Hawker\n"
   ]
  },
  {
   "cell_type": "code",
   "execution_count": null,
   "id": "15dea579",
   "metadata": {},
   "outputs": [],
   "source": [
    "main_list = []\n",
    "for index, n in private_use.iterrows():\n",
    "    for index, i in hawker.iterrows():\n",
    "        temp = ty(\n",
    "            (float(n[\"LATITUDE\"]), float(n[\"LONGITUDE\"])),\n",
    "            (float(i[\"lat\"]), float(i[\"lon\"])),\n",
    "        )\n",
    "        main_list.append(\n",
    "            [\n",
    "                float(n[\"LATITUDE\"]),\n",
    "                float(n[\"LONGITUDE\"]),\n",
    "                float(i[\"lat\"]),\n",
    "                float(i[\"lon\"]),\n",
    "                temp,\n",
    "            ]\n",
    "        )"
   ]
  },
  {
   "cell_type": "code",
   "execution_count": null,
   "id": "6b4f6528",
   "metadata": {},
   "outputs": [],
   "source": [
    "column = [\"private_lat\", \"private_lon\", \"hawker_lat\", \"hawker_lon\", \"distance\"]\n",
    "output = pd.DataFrame(main_list, columns=column)\n",
    "output.head()"
   ]
  },
  {
   "cell_type": "code",
   "execution_count": null,
   "id": "c35289e7",
   "metadata": {},
   "outputs": [],
   "source": [
    "output.to_csv(\"hawker_private_matrix.csv\")"
   ]
  },
  {
   "cell_type": "markdown",
   "id": "6a5a9993",
   "metadata": {},
   "source": [
    "## Shopping Malls\n"
   ]
  },
  {
   "cell_type": "code",
   "execution_count": null,
   "id": "7dc7fc53",
   "metadata": {},
   "outputs": [],
   "source": [
    "main_list = []\n",
    "for index, n in private_use.iterrows():\n",
    "    for index, i in malls.iterrows():\n",
    "        temp = ty(\n",
    "            (float(n[\"LATITUDE\"]), float(n[\"LONGITUDE\"])),\n",
    "            (float(i[\"LATITUDE\"]), float(i[\"LONGITUDE\"])),\n",
    "        )\n",
    "        main_list.append(\n",
    "            [\n",
    "                float(n[\"LATITUDE\"]),\n",
    "                float(n[\"LONGITUDE\"]),\n",
    "                float(i[\"LATITUDE\"]),\n",
    "                float(i[\"LONGITUDE\"]),\n",
    "                temp,\n",
    "            ]\n",
    "        )"
   ]
  },
  {
   "cell_type": "code",
   "execution_count": null,
   "id": "5d605d72",
   "metadata": {},
   "outputs": [],
   "source": [
    "column = [\"private_lat\", \"private_lon\", \"mall_lat\", \"mall_lon\", \"distance\"]\n",
    "output = pd.DataFrame(main_list, columns=column)\n",
    "output.head()"
   ]
  },
  {
   "cell_type": "code",
   "execution_count": null,
   "id": "92ce3aa3",
   "metadata": {},
   "outputs": [],
   "source": [
    "output.to_csv(\"malls_private_matrix.csv\")"
   ]
  },
  {
   "cell_type": "markdown",
   "id": "90bd42fe",
   "metadata": {},
   "source": [
    "## School\n"
   ]
  },
  {
   "cell_type": "code",
   "execution_count": null,
   "id": "0f31b8a0",
   "metadata": {},
   "outputs": [],
   "source": [
    "main_list = []\n",
    "for index, n in private_use.iterrows():\n",
    "    for index, i in schools.iterrows():\n",
    "        temp = ty(\n",
    "            (float(n[\"LATITUDE\"]), float(n[\"LONGITUDE\"])),\n",
    "            (float(i[\"Latitude (generated)\"]), float(i[\"Longitude (generated)\"])),\n",
    "        )\n",
    "        main_list.append(\n",
    "            [\n",
    "                float(n[\"LATITUDE\"]),\n",
    "                float(n[\"LONGITUDE\"]),\n",
    "                float(i[\"Latitude (generated)\"]),\n",
    "                float(i[\"Longitude (generated)\"]),\n",
    "                temp,\n",
    "            ]\n",
    "        )"
   ]
  },
  {
   "cell_type": "code",
   "execution_count": null,
   "id": "3a51c831",
   "metadata": {},
   "outputs": [],
   "source": [
    "column = [\"private_lat\", \"private_lon\", \"school_lat\", \"school_lon\", \"distance\"]\n",
    "output = pd.DataFrame(main_list, columns=column)\n",
    "output.head()"
   ]
  },
  {
   "cell_type": "code",
   "execution_count": null,
   "id": "d745e496",
   "metadata": {},
   "outputs": [],
   "source": [
    "output.to_csv(\"school_private_matrix.csv\")"
   ]
  },
  {
   "cell_type": "markdown",
   "id": "4d5b08b9",
   "metadata": {},
   "source": [
    "## Parks\n"
   ]
  },
  {
   "cell_type": "code",
   "execution_count": null,
   "id": "9e5b83bc",
   "metadata": {},
   "outputs": [],
   "source": [
    "main_list = []\n",
    "for index, n in private_use.iterrows():\n",
    "    for index, i in parks.iterrows():\n",
    "        temp = ty(\n",
    "            (float(n[\"LATITUDE\"]), float(n[\"LONGITUDE\"])),\n",
    "            (float(i[\"lat\"]), float(i[\"lon\"])),\n",
    "        )\n",
    "        main_list.append(\n",
    "            [\n",
    "                float(n[\"LATITUDE\"]),\n",
    "                float(n[\"LONGITUDE\"]),\n",
    "                float(i[\"lat\"]),\n",
    "                float(i[\"lon\"]),\n",
    "                temp,\n",
    "            ]\n",
    "        )"
   ]
  },
  {
   "cell_type": "code",
   "execution_count": null,
   "id": "f054312e",
   "metadata": {},
   "outputs": [],
   "source": [
    "column = [\"private_lat\", \"private_lon\", \"park_lat\", \"park_lon\", \"distance\"]\n",
    "output = pd.DataFrame(main_list, columns=column)\n",
    "output.head()"
   ]
  },
  {
   "cell_type": "code",
   "execution_count": null,
   "id": "a50bc0ae",
   "metadata": {},
   "outputs": [],
   "source": [
    "output.to_csv(\"parks_private_matrix.csv\")"
   ]
  },
  {
   "cell_type": "markdown",
   "id": "0ecfc307",
   "metadata": {},
   "source": [
    "## Supermarkets\n"
   ]
  },
  {
   "cell_type": "code",
   "execution_count": null,
   "id": "f13704d5",
   "metadata": {},
   "outputs": [],
   "source": [
    "main_list = []\n",
    "for index, n in private_use.iterrows():\n",
    "    for index, i in supermarket.iterrows():\n",
    "        temp = ty(\n",
    "            (float(n[\"LATITUDE\"]), float(n[\"LONGITUDE\"])),\n",
    "            (float(i[\"lat\"]), float(i[\"lon\"])),\n",
    "        )\n",
    "        main_list.append(\n",
    "            [\n",
    "                float(n[\"LATITUDE\"]),\n",
    "                float(n[\"LONGITUDE\"]),\n",
    "                float(i[\"lat\"]),\n",
    "                float(i[\"lon\"]),\n",
    "                temp,\n",
    "            ]\n",
    "        )"
   ]
  },
  {
   "cell_type": "code",
   "execution_count": null,
   "id": "9bcdde87",
   "metadata": {},
   "outputs": [],
   "source": [
    "column = [\n",
    "    \"private_lat\",\n",
    "    \"private_lon\",\n",
    "    \"supermarket_lat\",\n",
    "    \"supermarket_lon\",\n",
    "    \"distance\",\n",
    "]\n",
    "output = pd.DataFrame(main_list, columns=column)\n",
    "output.head()"
   ]
  },
  {
   "cell_type": "code",
   "execution_count": null,
   "id": "f8f75006",
   "metadata": {},
   "outputs": [],
   "source": [
    "output.to_csv(\"supermarket_private_matrix.csv\")"
   ]
  },
  {
   "cell_type": "markdown",
   "id": "59fcf615",
   "metadata": {},
   "source": [
    "## MRT & LRT\n"
   ]
  },
  {
   "cell_type": "code",
   "execution_count": null,
   "id": "07832331",
   "metadata": {},
   "outputs": [],
   "source": [
    "main_list = []\n",
    "for index, n in private_use.iterrows():\n",
    "    for index, i in mrt.iterrows():\n",
    "        temp = ty(\n",
    "            (float(n[\"LATITUDE\"]), float(n[\"LONGITUDE\"])),\n",
    "            (float(i[\"lat\"]), float(i[\"lon\"])),\n",
    "        )\n",
    "        main_list.append(\n",
    "            [\n",
    "                float(n[\"LATITUDE\"]),\n",
    "                float(n[\"LONGITUDE\"]),\n",
    "                float(i[\"lat\"]),\n",
    "                float(i[\"lon\"]),\n",
    "                temp,\n",
    "            ]\n",
    "        )"
   ]
  },
  {
   "cell_type": "code",
   "execution_count": null,
   "id": "c0ae723f",
   "metadata": {
    "scrolled": true
   },
   "outputs": [],
   "source": [
    "column = [\"private_lat\", \"private_lon\", \"mrtlrt_lat\", \"mrtlrt_lon\", \"distance\"]\n",
    "output = pd.DataFrame(main_list, columns=column)\n",
    "output.head()"
   ]
  },
  {
   "cell_type": "code",
   "execution_count": null,
   "id": "61632ddb",
   "metadata": {},
   "outputs": [],
   "source": [
    "output.to_csv(\"mrtlrt_private_matrix.csv\")"
   ]
  },
  {
   "cell_type": "markdown",
   "id": "42e8777d",
   "metadata": {},
   "source": [
    "## Bus Stop\n"
   ]
  },
  {
   "cell_type": "code",
   "execution_count": null,
   "id": "62a8957c",
   "metadata": {},
   "outputs": [],
   "source": [
    "main_list = []\n",
    "for index, n in private_use.iterrows():\n",
    "    trest = bus.loc[\n",
    "        (abs(float(n[\"LATITUDE\"]) - bus[\"lat\"].astype(\"float\")) <= 0.03)\n",
    "        & (abs(float(n[\"LONGITUDE\"]) - bus[\"lon\"].astype(\"float\")) <= 0.03)\n",
    "    ]\n",
    "    for index, i in trest.iterrows():\n",
    "        temp = ty(\n",
    "            (float(n[\"LATITUDE\"]), float(n[\"LONGITUDE\"])),\n",
    "            (float(i[\"lat\"]), float(i[\"lon\"])),\n",
    "        )\n",
    "        main_list.append(\n",
    "            [\n",
    "                float(n[\"LATITUDE\"]),\n",
    "                float(n[\"LONGITUDE\"]),\n",
    "                float(i[\"lat\"]),\n",
    "                float(i[\"lon\"]),\n",
    "                temp,\n",
    "            ]\n",
    "        )"
   ]
  },
  {
   "cell_type": "markdown",
   "id": "cffa8f36",
   "metadata": {},
   "source": [
    "<= 400 rows for each hdb\n"
   ]
  },
  {
   "cell_type": "code",
   "execution_count": null,
   "id": "e0b4ef62",
   "metadata": {},
   "outputs": [],
   "source": [
    "column = [\"private_lat\", \"private_lon\", \"bus_lat\", \"bus_lon\", \"distance\"]\n",
    "output = pd.DataFrame(main_list, columns=column)\n",
    "output.head()"
   ]
  },
  {
   "cell_type": "code",
   "execution_count": null,
   "id": "ea0df465",
   "metadata": {},
   "outputs": [],
   "source": [
    "output.shape"
   ]
  },
  {
   "cell_type": "code",
   "execution_count": null,
   "id": "0a5a532d",
   "metadata": {},
   "outputs": [],
   "source": [
    "output.to_csv(\"Raw Matrix/bus_private_matrix.csv\")"
   ]
  }
 ],
 "metadata": {
  "kernelspec": {
   "display_name": "Python 3 (ipykernel)",
   "language": "python",
   "name": "python3"
  },
  "language_info": {
   "codemirror_mode": {
    "name": "ipython",
    "version": 3
   },
   "file_extension": ".py",
   "mimetype": "text/x-python",
   "name": "python",
   "nbconvert_exporter": "python",
   "pygments_lexer": "ipython3",
   "version": "3.9.12"
  }
 },
 "nbformat": 4,
 "nbformat_minor": 5
}
