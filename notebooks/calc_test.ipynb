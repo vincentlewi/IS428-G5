{
 "cells": [
  {
   "cell_type": "code",
   "execution_count": 1,
   "metadata": {},
   "outputs": [],
   "source": [
    "import pandas as pd\n",
    "import numpy as np"
   ]
  },
  {
   "cell_type": "code",
   "execution_count": 18,
   "metadata": {},
   "outputs": [],
   "source": [
    "hdb = pd.read_csv(\"../../assets/datasets/hdb/hdb_available.csv\")"
   ]
  },
  {
   "cell_type": "code",
   "execution_count": 20,
   "metadata": {},
   "outputs": [],
   "source": [
    "hdb_available = (\n",
    "    hdb.groupby([\"LATITUDE\", \"LONGITUDE\", \"address\", \"town\", \"flat_type\"])\n",
    "    .median()\n",
    "    .reset_index()\n",
    ")\n",
    "# Remaining lease is the maximum remaining lease among all the flats in the same location\n",
    "hdb_available[\"remaining_lease\"] = (\n",
    "    hdb.groupby([\"LATITUDE\", \"LONGITUDE\", \"address\", \"town\", \"flat_type\"])\n",
    "    .max()\n",
    "    .reset_index()[\"remaining_lease\"]\n",
    ")\n",
    "region = pd.read_csv(\"../../assets/datasets/hdb/region.csv\")[[\"Name\", \"Adm.\"]].rename(\n",
    "    columns={\"Name\": \"town\", \"Adm.\": \"region\"}\n",
    ")\n",
    "region[\"town\"] = region[\"town\"].str.upper()\n",
    "hdb_available = pd.merge(hdb_available, region, on=\"town\")"
   ]
  },
  {
   "cell_type": "code",
   "execution_count": 24,
   "metadata": {},
   "outputs": [],
   "source": [
    "hdb_available.to_csv(\"../../assets/datasets/hdb/hdb_available_cleaned.csv\", index=False)"
   ]
  },
  {
   "cell_type": "code",
   "execution_count": 69,
   "metadata": {},
   "outputs": [
    {
     "name": "stdout",
     "output_type": "stream",
     "text": [
      "2.772588722239781\n",
      "2.833213344056216\n",
      "1.791759469228055\n",
      "1.0986122886681098\n",
      "3.051516540909194\n",
      "0.4868281744936002\n",
      "0.5096731599345877\n",
      "0.4227980215034163\n"
     ]
    }
   ],
   "source": [
    "print((np.log(hdb[\"bus_within_0.5\"] + 1)).median())\n",
    "print((np.log(hdb[\"school_within_2.0\"] + 1)).median())\n",
    "print((np.log(hdb[\"mall_within_2.0\"] + 1)).median())\n",
    "print((np.log(hdb[\"supermarket_within_0.5\"] + 1)).median())\n",
    "print((np.log(hdb[\"cbd_distance\"] + 1)).max())\n",
    "print((np.log(hdb[\"hawker_distance\"] + 1)).median())\n",
    "print((np.log(hdb[\"park_distance\"] + 1)).median())\n",
    "print((np.log(hdb[\"mrtlrt_distance\"] + 1)).median())"
   ]
  },
  {
   "cell_type": "code",
   "execution_count": 14,
   "metadata": {},
   "outputs": [
    {
     "data": {
      "text/plain": [
       "0.981942082388511"
      ]
     },
     "execution_count": 14,
     "metadata": {},
     "output_type": "execute_result"
    }
   ],
   "source": [
    "sum(hdb[\"school_within_2.0\"] / 16) / len(hdb)"
   ]
  },
  {
   "cell_type": "code",
   "execution_count": 16,
   "metadata": {},
   "outputs": [
    {
     "data": {
      "text/plain": [
       "1.0305128635816465"
      ]
     },
     "execution_count": 16,
     "metadata": {},
     "output_type": "execute_result"
    }
   ],
   "source": [
    "sum(hdb[\"mall_within_2.0\"] / 5) / len(hdb)"
   ]
  },
  {
   "cell_type": "code",
   "execution_count": 17,
   "metadata": {},
   "outputs": [
    {
     "data": {
      "text/plain": [
       "0.999177654600935"
      ]
     },
     "execution_count": 17,
     "metadata": {},
     "output_type": "execute_result"
    }
   ],
   "source": [
    "sum(hdb[\"supermarket_within_0.5\"] / 2) / len(hdb)"
   ]
  },
  {
   "cell_type": "code",
   "execution_count": 59,
   "metadata": {},
   "outputs": [
    {
     "data": {
      "text/plain": [
       "2.583298817808003"
      ]
     },
     "execution_count": 59,
     "metadata": {},
     "output_type": "execute_result"
    }
   ],
   "source": [
    "np.log(hdb[\"cbd_distance\"]).median()"
   ]
  },
  {
   "cell_type": "code",
   "execution_count": 58,
   "metadata": {},
   "outputs": [
    {
     "data": {
      "text/plain": [
       "1.1653531476463148"
      ]
     },
     "execution_count": 58,
     "metadata": {},
     "output_type": "execute_result"
    }
   ],
   "source": [
    "sum(np.log(hdb[\"cbd_distance\"]).median() - np.log(hdb[\"cbd_distance\"]) + 1) / len(hdb)"
   ]
  },
  {
   "cell_type": "code",
   "execution_count": 22,
   "metadata": {},
   "outputs": [
    {
     "data": {
      "text/plain": [
       "1.2031298747504364"
      ]
     },
     "execution_count": 22,
     "metadata": {},
     "output_type": "execute_result"
    }
   ],
   "source": [
    "sum(1 / hdb[\"hawker_distance\"] / 2) / len(hdb)"
   ]
  },
  {
   "cell_type": "code",
   "execution_count": 29,
   "metadata": {},
   "outputs": [
    {
     "data": {
      "text/plain": [
       "1.1113370448978939"
      ]
     },
     "execution_count": 29,
     "metadata": {},
     "output_type": "execute_result"
    }
   ],
   "source": [
    "sum(1 / hdb[\"park_distance\"] * 0.6) / len(hdb)"
   ]
  },
  {
   "cell_type": "code",
   "execution_count": 32,
   "metadata": {},
   "outputs": [
    {
     "data": {
      "text/plain": [
       "1.9003241953077197"
      ]
     },
     "execution_count": 32,
     "metadata": {},
     "output_type": "execute_result"
    }
   ],
   "source": [
    "(1 / hdb[\"mrtlrt_distance\"]).median()"
   ]
  },
  {
   "cell_type": "code",
   "execution_count": 35,
   "metadata": {},
   "outputs": [
    {
     "data": {
      "text/plain": [
       "1.3985343691838925"
      ]
     },
     "execution_count": 35,
     "metadata": {},
     "output_type": "execute_result"
    }
   ],
   "source": [
    "sum(1 / hdb[\"mrtlrt_distance\"] * 0.526) / len(hdb)"
   ]
  }
 ],
 "metadata": {
  "kernelspec": {
   "display_name": "Python 3",
   "language": "python",
   "name": "python3"
  },
  "language_info": {
   "codemirror_mode": {
    "name": "ipython",
    "version": 3
   },
   "file_extension": ".py",
   "mimetype": "text/x-python",
   "name": "python",
   "nbconvert_exporter": "python",
   "pygments_lexer": "ipython3",
   "version": "3.12.1"
  }
 },
 "nbformat": 4,
 "nbformat_minor": 2
}
