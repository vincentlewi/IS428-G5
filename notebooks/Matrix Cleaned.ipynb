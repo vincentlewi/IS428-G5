{
 "cells": [
  {
   "cell_type": "code",
   "execution_count": null,
   "id": "3bc23b00",
   "metadata": {},
   "outputs": [],
   "source": [
    "import pandas as pd"
   ]
  },
  {
   "cell_type": "code",
   "execution_count": null,
   "id": "5d61f07d",
   "metadata": {},
   "outputs": [],
   "source": [
    "datasets = {\n",
    "    \"bus_hdb_matrix.csv\": \"bus_hdb\",\n",
    "    \"bus_private_matrix.csv\": \"bus_private\",\n",
    "    \"hawker_hdb_matrix.csv\": \"hawker_hdb\",\n",
    "    \"hawker_private_matrix.csv\": \"hawker_private\",\n",
    "    \"malls_hdb_matrix.csv\": \"malls_hdb\",\n",
    "    \"malls_private_matrix.csv\": \"malls_private\",\n",
    "    \"mrtlrt_hdb_matrix.csv\": \"mrtlrt_hdb\",\n",
    "    \"mrtlrt_private_matrix.csv\": \"mrtlrt_private\",\n",
    "    \"parks_hdb_matrix.csv\": \"parks_hdb\",\n",
    "    \"parks_private_matrix.csv\": \"parks_private\",\n",
    "    \"school_hdb_matrix.csv\": \"school_hdb\",\n",
    "    \"school_private_matrix.csv\": \"school_private\",\n",
    "    \"supermarket_hdb_matrix.csv\": \"supermarket_hdb\",\n",
    "    \"supermarket_private_matrix.csv\": \"supermarket_private\",\n",
    "}"
   ]
  },
  {
   "cell_type": "markdown",
   "id": "138ed290",
   "metadata": {},
   "source": [
    "# Shortest Distances\n"
   ]
  },
  {
   "cell_type": "code",
   "execution_count": null,
   "id": "b8d62d7b",
   "metadata": {},
   "outputs": [],
   "source": [
    "def shortestdistance(file_name, output_name):\n",
    "    df = pd.read_csv(\"Raw Matrix/\" + file_name)\n",
    "\n",
    "    shortest_distances = df.loc[\n",
    "        df.groupby([df.columns[1], df.columns[2]])[\"distance\"].idxmin()\n",
    "    ]\n",
    "    shortest_distances.reset_index(drop=True, inplace=True)\n",
    "    shortest_distances.drop(columns=shortest_distances.columns[0], axis=1, inplace=True)\n",
    "\n",
    "    shortest_distances.to_csv(\"Shortest Matrix/\" + output_name + \"_shortest.csv\")\n",
    "    print(\"----------\")\n",
    "    print(file_name)\n",
    "    print(shortest_distances.head())"
   ]
  },
  {
   "cell_type": "code",
   "execution_count": null,
   "id": "64866c36",
   "metadata": {
    "scrolled": false
   },
   "outputs": [],
   "source": [
    "for keys, values in datasets.items():\n",
    "    shortestdistance(keys, values)"
   ]
  },
  {
   "cell_type": "markdown",
   "id": "da599aaa",
   "metadata": {},
   "source": [
    "# Within Distance count\n"
   ]
  },
  {
   "cell_type": "code",
   "execution_count": null,
   "id": "b2da42f7",
   "metadata": {},
   "outputs": [],
   "source": [
    "def count_within_thresholds(file_name, output_name):\n",
    "    df = pd.read_csv(\"Raw Matrix/\" + file_name)\n",
    "\n",
    "    thresholds = [0.1, 0.3, 0.5, 1, 1.5, 2.0]\n",
    "    counts_df = pd.DataFrame()\n",
    "\n",
    "    for threshold in thresholds:\n",
    "        counts_df[f\"within_{threshold}\"] = df.groupby([df.columns[1], df.columns[2]])[\n",
    "            \"distance\"\n",
    "        ].apply(lambda x: (x <= threshold).sum())\n",
    "\n",
    "    counts_df.reset_index(inplace=True)\n",
    "    counts_df.to_csv(\"Count Matrix/\" + output_name + \"_counts.csv\", index=False)\n",
    "\n",
    "    print(\"----------\")\n",
    "    print(file_name)\n",
    "    print(counts_df.head())"
   ]
  },
  {
   "cell_type": "code",
   "execution_count": null,
   "id": "8b74c53f",
   "metadata": {
    "scrolled": false
   },
   "outputs": [],
   "source": [
    "for keys, values in datasets.items():\n",
    "    count_within_thresholds(keys, values)"
   ]
  }
 ],
 "metadata": {
  "kernelspec": {
   "display_name": "Python 3 (ipykernel)",
   "language": "python",
   "name": "python3"
  },
  "language_info": {
   "codemirror_mode": {
    "name": "ipython",
    "version": 3
   },
   "file_extension": ".py",
   "mimetype": "text/x-python",
   "name": "python",
   "nbconvert_exporter": "python",
   "pygments_lexer": "ipython3",
   "version": "3.9.12"
  }
 },
 "nbformat": 4,
 "nbformat_minor": 5
}
