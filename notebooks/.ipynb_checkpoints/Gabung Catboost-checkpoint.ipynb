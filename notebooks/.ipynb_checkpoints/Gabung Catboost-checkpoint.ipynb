{
 "cells": [
  {
   "cell_type": "code",
   "execution_count": 21,
   "id": "8dfb1629",
   "metadata": {},
   "outputs": [],
   "source": [
    "import pandas as pd"
   ]
  },
  {
   "cell_type": "code",
   "execution_count": 22,
   "id": "4e4abc9f",
   "metadata": {},
   "outputs": [
    {
     "data": {
      "text/plain": [
       "(10, 3)"
      ]
     },
     "execution_count": 22,
     "metadata": {},
     "output_type": "execute_result"
    }
   ],
   "source": [
    "df = pd.read_csv(\"../src/assets/datasets/catboost_2000_2003.csv\")\n",
    "df.shape"
   ]
  },
  {
   "cell_type": "code",
   "execution_count": 23,
   "id": "eed9b781",
   "metadata": {},
   "outputs": [],
   "source": [
    "datasets = [\n",
    "    \"../src/assets/datasets/catboost_2000_2003.csv\",\n",
    "    \"../src/assets/datasets/catboost_2004_2007.csv\",\n",
    "    \"../src/assets/datasets/catboost_2008_2011.csv\",\n",
    "    \"../src/assets/datasets/catboost_2012_2015.csv\",\n",
    "    \"../src/assets/datasets/catboost_2016_2019.csv\",\n",
    "    \"../src/assets/datasets/catboost_2020_2024.csv\"\n",
    "]\n",
    "\n",
    "years = [\n",
    "    \"2000-2003\",\n",
    "    \"2004-2007\",\n",
    "    \"2008-2011\",\n",
    "    \"2012-2015\",\n",
    "    \"2016-2019\",\n",
    "    \"2020-2024\"\n",
    "]"
   ]
  },
  {
   "cell_type": "code",
   "execution_count": 24,
   "id": "f8b0c22f",
   "metadata": {},
   "outputs": [
    {
     "data": {
      "text/html": [
       "<div>\n",
       "<style scoped>\n",
       "    .dataframe tbody tr th:only-of-type {\n",
       "        vertical-align: middle;\n",
       "    }\n",
       "\n",
       "    .dataframe tbody tr th {\n",
       "        vertical-align: top;\n",
       "    }\n",
       "\n",
       "    .dataframe thead th {\n",
       "        text-align: right;\n",
       "    }\n",
       "</style>\n",
       "<table border=\"1\" class=\"dataframe\">\n",
       "  <thead>\n",
       "    <tr style=\"text-align: right;\">\n",
       "      <th></th>\n",
       "      <th>year</th>\n",
       "    </tr>\n",
       "  </thead>\n",
       "  <tbody>\n",
       "  </tbody>\n",
       "</table>\n",
       "</div>"
      ],
      "text/plain": [
       "Empty DataFrame\n",
       "Columns: [year]\n",
       "Index: []"
      ]
     },
     "execution_count": 24,
     "metadata": {},
     "output_type": "execute_result"
    }
   ],
   "source": [
    "column = ['year']\n",
    "output = pd.DataFrame(columns=column)\n",
    "output"
   ]
  },
  {
   "cell_type": "code",
   "execution_count": 25,
   "id": "cd6a0bd8",
   "metadata": {},
   "outputs": [
    {
     "name": "stdout",
     "output_type": "stream",
     "text": [
      "2000-2003\n",
      "2004-2007\n",
      "2008-2011\n",
      "2012-2015\n",
      "2016-2019\n",
      "2020-2024\n"
     ]
    },
    {
     "data": {
      "text/html": [
       "<div>\n",
       "<style scoped>\n",
       "    .dataframe tbody tr th:only-of-type {\n",
       "        vertical-align: middle;\n",
       "    }\n",
       "\n",
       "    .dataframe tbody tr th {\n",
       "        vertical-align: top;\n",
       "    }\n",
       "\n",
       "    .dataframe thead th {\n",
       "        text-align: right;\n",
       "    }\n",
       "</style>\n",
       "<table border=\"1\" class=\"dataframe\">\n",
       "  <thead>\n",
       "    <tr style=\"text-align: right;\">\n",
       "      <th></th>\n",
       "      <th>year</th>\n",
       "      <th>Feature Id</th>\n",
       "      <th>Importances</th>\n",
       "    </tr>\n",
       "  </thead>\n",
       "  <tbody>\n",
       "    <tr>\n",
       "      <th>0</th>\n",
       "      <td>2000-2003</td>\n",
       "      <td>floor_area_sqm</td>\n",
       "      <td>49.172503</td>\n",
       "    </tr>\n",
       "    <tr>\n",
       "      <th>1</th>\n",
       "      <td>2000-2003</td>\n",
       "      <td>cbd_distance</td>\n",
       "      <td>13.149178</td>\n",
       "    </tr>\n",
       "    <tr>\n",
       "      <th>2</th>\n",
       "      <td>2000-2003</td>\n",
       "      <td>remaining_lease</td>\n",
       "      <td>10.008104</td>\n",
       "    </tr>\n",
       "    <tr>\n",
       "      <th>3</th>\n",
       "      <td>2000-2003</td>\n",
       "      <td>mrtlrt_distance</td>\n",
       "      <td>4.745363</td>\n",
       "    </tr>\n",
       "    <tr>\n",
       "      <th>4</th>\n",
       "      <td>2000-2003</td>\n",
       "      <td>school_within_2.0</td>\n",
       "      <td>4.557160</td>\n",
       "    </tr>\n",
       "    <tr>\n",
       "      <th>5</th>\n",
       "      <td>2000-2003</td>\n",
       "      <td>hawker_distance</td>\n",
       "      <td>4.246388</td>\n",
       "    </tr>\n",
       "    <tr>\n",
       "      <th>6</th>\n",
       "      <td>2000-2003</td>\n",
       "      <td>park_distance</td>\n",
       "      <td>4.037015</td>\n",
       "    </tr>\n",
       "    <tr>\n",
       "      <th>7</th>\n",
       "      <td>2000-2003</td>\n",
       "      <td>mall_within_2.0</td>\n",
       "      <td>4.020702</td>\n",
       "    </tr>\n",
       "    <tr>\n",
       "      <th>8</th>\n",
       "      <td>2000-2003</td>\n",
       "      <td>supermarket_within_0.5</td>\n",
       "      <td>3.264460</td>\n",
       "    </tr>\n",
       "    <tr>\n",
       "      <th>9</th>\n",
       "      <td>2000-2003</td>\n",
       "      <td>bus_within_0.5</td>\n",
       "      <td>2.799128</td>\n",
       "    </tr>\n",
       "    <tr>\n",
       "      <th>10</th>\n",
       "      <td>2004-2007</td>\n",
       "      <td>floor_area_sqm</td>\n",
       "      <td>35.838242</td>\n",
       "    </tr>\n",
       "    <tr>\n",
       "      <th>11</th>\n",
       "      <td>2004-2007</td>\n",
       "      <td>cbd_distance</td>\n",
       "      <td>13.597726</td>\n",
       "    </tr>\n",
       "    <tr>\n",
       "      <th>12</th>\n",
       "      <td>2004-2007</td>\n",
       "      <td>remaining_lease</td>\n",
       "      <td>13.514038</td>\n",
       "    </tr>\n",
       "    <tr>\n",
       "      <th>13</th>\n",
       "      <td>2004-2007</td>\n",
       "      <td>mrtlrt_distance</td>\n",
       "      <td>6.704160</td>\n",
       "    </tr>\n",
       "    <tr>\n",
       "      <th>14</th>\n",
       "      <td>2004-2007</td>\n",
       "      <td>park_distance</td>\n",
       "      <td>5.352038</td>\n",
       "    </tr>\n",
       "    <tr>\n",
       "      <th>15</th>\n",
       "      <td>2004-2007</td>\n",
       "      <td>school_within_2.0</td>\n",
       "      <td>5.341761</td>\n",
       "    </tr>\n",
       "    <tr>\n",
       "      <th>16</th>\n",
       "      <td>2004-2007</td>\n",
       "      <td>mall_within_2.0</td>\n",
       "      <td>5.317137</td>\n",
       "    </tr>\n",
       "    <tr>\n",
       "      <th>17</th>\n",
       "      <td>2004-2007</td>\n",
       "      <td>hawker_distance</td>\n",
       "      <td>5.059004</td>\n",
       "    </tr>\n",
       "    <tr>\n",
       "      <th>18</th>\n",
       "      <td>2004-2007</td>\n",
       "      <td>supermarket_within_0.5</td>\n",
       "      <td>4.826119</td>\n",
       "    </tr>\n",
       "    <tr>\n",
       "      <th>19</th>\n",
       "      <td>2004-2007</td>\n",
       "      <td>bus_within_0.5</td>\n",
       "      <td>4.449776</td>\n",
       "    </tr>\n",
       "    <tr>\n",
       "      <th>20</th>\n",
       "      <td>2008-2011</td>\n",
       "      <td>floor_area_sqm</td>\n",
       "      <td>27.924391</td>\n",
       "    </tr>\n",
       "    <tr>\n",
       "      <th>21</th>\n",
       "      <td>2008-2011</td>\n",
       "      <td>remaining_lease</td>\n",
       "      <td>16.884297</td>\n",
       "    </tr>\n",
       "    <tr>\n",
       "      <th>22</th>\n",
       "      <td>2008-2011</td>\n",
       "      <td>cbd_distance</td>\n",
       "      <td>14.288008</td>\n",
       "    </tr>\n",
       "    <tr>\n",
       "      <th>23</th>\n",
       "      <td>2008-2011</td>\n",
       "      <td>mrtlrt_distance</td>\n",
       "      <td>7.039091</td>\n",
       "    </tr>\n",
       "    <tr>\n",
       "      <th>24</th>\n",
       "      <td>2008-2011</td>\n",
       "      <td>school_within_2.0</td>\n",
       "      <td>6.322510</td>\n",
       "    </tr>\n",
       "    <tr>\n",
       "      <th>25</th>\n",
       "      <td>2008-2011</td>\n",
       "      <td>park_distance</td>\n",
       "      <td>6.138339</td>\n",
       "    </tr>\n",
       "    <tr>\n",
       "      <th>26</th>\n",
       "      <td>2008-2011</td>\n",
       "      <td>mall_within_2.0</td>\n",
       "      <td>5.960632</td>\n",
       "    </tr>\n",
       "    <tr>\n",
       "      <th>27</th>\n",
       "      <td>2008-2011</td>\n",
       "      <td>hawker_distance</td>\n",
       "      <td>5.862065</td>\n",
       "    </tr>\n",
       "    <tr>\n",
       "      <th>28</th>\n",
       "      <td>2008-2011</td>\n",
       "      <td>supermarket_within_0.5</td>\n",
       "      <td>5.320554</td>\n",
       "    </tr>\n",
       "    <tr>\n",
       "      <th>29</th>\n",
       "      <td>2008-2011</td>\n",
       "      <td>bus_within_0.5</td>\n",
       "      <td>4.260113</td>\n",
       "    </tr>\n",
       "  </tbody>\n",
       "</table>\n",
       "</div>"
      ],
      "text/plain": [
       "         year              Feature Id  Importances\n",
       "0   2000-2003          floor_area_sqm    49.172503\n",
       "1   2000-2003            cbd_distance    13.149178\n",
       "2   2000-2003         remaining_lease    10.008104\n",
       "3   2000-2003         mrtlrt_distance     4.745363\n",
       "4   2000-2003       school_within_2.0     4.557160\n",
       "5   2000-2003         hawker_distance     4.246388\n",
       "6   2000-2003           park_distance     4.037015\n",
       "7   2000-2003         mall_within_2.0     4.020702\n",
       "8   2000-2003  supermarket_within_0.5     3.264460\n",
       "9   2000-2003          bus_within_0.5     2.799128\n",
       "10  2004-2007          floor_area_sqm    35.838242\n",
       "11  2004-2007            cbd_distance    13.597726\n",
       "12  2004-2007         remaining_lease    13.514038\n",
       "13  2004-2007         mrtlrt_distance     6.704160\n",
       "14  2004-2007           park_distance     5.352038\n",
       "15  2004-2007       school_within_2.0     5.341761\n",
       "16  2004-2007         mall_within_2.0     5.317137\n",
       "17  2004-2007         hawker_distance     5.059004\n",
       "18  2004-2007  supermarket_within_0.5     4.826119\n",
       "19  2004-2007          bus_within_0.5     4.449776\n",
       "20  2008-2011          floor_area_sqm    27.924391\n",
       "21  2008-2011         remaining_lease    16.884297\n",
       "22  2008-2011            cbd_distance    14.288008\n",
       "23  2008-2011         mrtlrt_distance     7.039091\n",
       "24  2008-2011       school_within_2.0     6.322510\n",
       "25  2008-2011           park_distance     6.138339\n",
       "26  2008-2011         mall_within_2.0     5.960632\n",
       "27  2008-2011         hawker_distance     5.862065\n",
       "28  2008-2011  supermarket_within_0.5     5.320554\n",
       "29  2008-2011          bus_within_0.5     4.260113"
      ]
     },
     "execution_count": 25,
     "metadata": {},
     "output_type": "execute_result"
    }
   ],
   "source": [
    "for n in range(len(datasets)):\n",
    "    temp = pd.read_csv(datasets[n])\n",
    "    temp.drop(columns=df.columns[0], axis=1, inplace=True)\n",
    "    temp['year'] = years[n]\n",
    "    print(years[n])\n",
    "    output = pd.concat([output, temp], ignore_index=True, sort=False)\n",
    "output.head(30)"
   ]
  },
  {
   "cell_type": "code",
   "execution_count": 26,
   "id": "a965db56",
   "metadata": {
    "scrolled": true
   },
   "outputs": [
    {
     "data": {
      "text/plain": [
       "(60, 3)"
      ]
     },
     "execution_count": 26,
     "metadata": {},
     "output_type": "execute_result"
    }
   ],
   "source": [
    "output.shape"
   ]
  },
  {
   "cell_type": "code",
   "execution_count": 29,
   "id": "1d3fc712",
   "metadata": {},
   "outputs": [
    {
     "name": "stdout",
     "output_type": "stream",
     "text": [
      "<class 'pandas.core.frame.DataFrame'>\n",
      "RangeIndex: 60 entries, 0 to 59\n",
      "Data columns (total 3 columns):\n",
      " #   Column       Non-Null Count  Dtype  \n",
      "---  ------       --------------  -----  \n",
      " 0   year         60 non-null     object \n",
      " 1   Feature Id   60 non-null     object \n",
      " 2   Importances  60 non-null     float64\n",
      "dtypes: float64(1), object(2)\n",
      "memory usage: 1.5+ KB\n"
     ]
    }
   ],
   "source": [
    "output.info()"
   ]
  },
  {
   "cell_type": "code",
   "execution_count": 31,
   "id": "1601d3f7",
   "metadata": {},
   "outputs": [
    {
     "name": "stdout",
     "output_type": "stream",
     "text": [
      "<class 'pandas.core.frame.DataFrame'>\n",
      "RangeIndex: 60 entries, 0 to 59\n",
      "Data columns (total 3 columns):\n",
      " #   Column       Non-Null Count  Dtype  \n",
      "---  ------       --------------  -----  \n",
      " 0   year         60 non-null     object \n",
      " 1   Feature Id   60 non-null     object \n",
      " 2   Importances  60 non-null     float64\n",
      "dtypes: float64(1), object(2)\n",
      "memory usage: 1.5+ KB\n"
     ]
    }
   ],
   "source": [
    "output['year'] = output['year'].astype(\"string\")\n",
    "output['Feature Id'] = output['Feature Id'].astype(\"string\")\n",
    "output.info()\n"
   ]
  },
  {
   "cell_type": "code",
   "execution_count": 27,
   "id": "5f25c20e",
   "metadata": {},
   "outputs": [],
   "source": [
    "output.to_json(\"../src/assets/datasets/catboost_aggregated.json\", orient=\"records\")"
   ]
  },
  {
   "cell_type": "code",
   "execution_count": 28,
   "id": "58d74718",
   "metadata": {},
   "outputs": [],
   "source": [
    "output.to_csv(\"../src/assets/datasets/catboost_aggregated.csv\")"
   ]
  },
  {
   "cell_type": "code",
   "execution_count": null,
   "id": "a2c35bdc",
   "metadata": {},
   "outputs": [],
   "source": []
  }
 ],
 "metadata": {
  "kernelspec": {
   "display_name": "Python 3 (ipykernel)",
   "language": "python",
   "name": "python3"
  },
  "language_info": {
   "codemirror_mode": {
    "name": "ipython",
    "version": 3
   },
   "file_extension": ".py",
   "mimetype": "text/x-python",
   "name": "python",
   "nbconvert_exporter": "python",
   "pygments_lexer": "ipython3",
   "version": "3.9.12"
  }
 },
 "nbformat": 4,
 "nbformat_minor": 5
}
